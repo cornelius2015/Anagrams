{
  "nbformat": 4,
  "nbformat_minor": 0,
  "metadata": {
    "colab": {
      "provenance": [],
      "authorship_tag": "ABX9TyPYckFbUQIacqsWHcRYKnJw",
      "include_colab_link": true
    },
    "kernelspec": {
      "name": "python3",
      "display_name": "Python 3"
    },
    "language_info": {
      "name": "python"
    }
  },
  "cells": [
    {
      "cell_type": "markdown",
      "metadata": {
        "id": "view-in-github",
        "colab_type": "text"
      },
      "source": [
        "<a href=\"https://colab.research.google.com/github/cornelius2015/Anagrams/blob/master/Untitled0.ipynb\" target=\"_parent\"><img src=\"https://colab.research.google.com/assets/colab-badge.svg\" alt=\"Open In Colab\"/></a>"
      ]
    },
    {
      "cell_type": "code",
      "execution_count": null,
      "metadata": {
        "id": "Ihl1cwG5AX_t"
      },
      "outputs": [],
      "source": []
    },
    {
      "cell_type": "code",
      "source": [
        "for i in range(10):\n",
        "  print(\"hellow world\")"
      ],
      "metadata": {
        "colab": {
          "base_uri": "https://localhost:8080/"
        },
        "id": "p364ixsLAaBB",
        "outputId": "10ed91d6-15bd-4af5-b495-c330e54cbe22"
      },
      "execution_count": 2,
      "outputs": [
        {
          "output_type": "stream",
          "name": "stdout",
          "text": [
            "hellow world\n",
            "hellow world\n",
            "hellow world\n",
            "hellow world\n",
            "hellow world\n",
            "hellow world\n",
            "hellow world\n",
            "hellow world\n",
            "hellow world\n",
            "hellow world\n"
          ]
        }
      ]
    },
    {
      "cell_type": "code",
      "source": [],
      "metadata": {
        "id": "U86o2h6tCfu8"
      },
      "execution_count": null,
      "outputs": []
    },
    {
      "cell_type": "code",
      "source": [],
      "metadata": {
        "id": "HMfwxyOGCgVH"
      },
      "execution_count": null,
      "outputs": []
    },
    {
      "cell_type": "markdown",
      "source": [
        "**Chapte Hello World**"
      ],
      "metadata": {
        "id": "Oiocap6_Cgs4"
      }
    },
    {
      "cell_type": "code",
      "source": [],
      "metadata": {
        "id": "Wbp5C9cnC7bC"
      },
      "execution_count": null,
      "outputs": []
    }
  ]
}